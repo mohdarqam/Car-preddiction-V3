{
 "cells": [
  {
   "cell_type": "code",
   "execution_count": 1,
   "metadata": {},
   "outputs": [],
   "source": [
    "import pandas as pd"
   ]
  },
  {
   "cell_type": "code",
   "execution_count": 2,
   "metadata": {},
   "outputs": [],
   "source": [
    "df = pd.read_csv('Car details v3.csv')"
   ]
  },
  {
   "cell_type": "code",
   "execution_count": 3,
   "metadata": {},
   "outputs": [
    {
     "name": "stdout",
     "output_type": "stream",
     "text": [
      "                           name  year  selling_price  km_driven    fuel  \\\n",
      "0        Maruti Swift Dzire VDI  2014         450000     145500  Diesel   \n",
      "1  Skoda Rapid 1.5 TDI Ambition  2014         370000     120000  Diesel   \n",
      "2      Honda City 2017-2020 EXi  2006         158000     140000  Petrol   \n",
      "3     Hyundai i20 Sportz Diesel  2010         225000     127000  Diesel   \n",
      "4        Maruti Swift VXI BSIII  2007         130000     120000  Petrol   \n",
      "\n",
      "  seller_type transmission         owner     mileage   engine   max_power  \\\n",
      "0  Individual       Manual   First Owner   23.4 kmpl  1248 CC      74 bhp   \n",
      "1  Individual       Manual  Second Owner  21.14 kmpl  1498 CC  103.52 bhp   \n",
      "2  Individual       Manual   Third Owner   17.7 kmpl  1497 CC      78 bhp   \n",
      "3  Individual       Manual   First Owner   23.0 kmpl  1396 CC      90 bhp   \n",
      "4  Individual       Manual   First Owner   16.1 kmpl  1298 CC    88.2 bhp   \n",
      "\n",
      "                     torque  seats  \n",
      "0            190Nm@ 2000rpm    5.0  \n",
      "1       250Nm@ 1500-2500rpm    5.0  \n",
      "2     12.7@ 2,700(kgm@ rpm)    5.0  \n",
      "3  22.4 kgm at 1750-2750rpm    5.0  \n",
      "4     11.5@ 4,500(kgm@ rpm)    5.0  \n",
      "(8128, 13)\n"
     ]
    }
   ],
   "source": [
    "print(df.head())\n",
    "print(df.shape)"
   ]
  },
  {
   "cell_type": "code",
   "execution_count": 4,
   "metadata": {},
   "outputs": [
    {
     "name": "stdout",
     "output_type": "stream",
     "text": [
      "['Diesel' 'Petrol' 'LPG' 'CNG']\n",
      "['Individual' 'Dealer' 'Trustmark Dealer']\n",
      "['Manual' 'Automatic']\n",
      "['First Owner' 'Second Owner' 'Third Owner' 'Fourth & Above Owner'\n",
      " 'Test Drive Car']\n",
      "[ 5.  4. nan  7.  8.  6.  9. 10. 14.  2.]\n"
     ]
    }
   ],
   "source": [
    "print(df['fuel'].unique())\n",
    "print(df['seller_type'].unique())\n",
    "print(df['transmission'].unique())\n",
    "print(df['owner'].unique())\n",
    "print(df['seats'].unique())"
   ]
  },
  {
   "cell_type": "code",
   "execution_count": 5,
   "metadata": {},
   "outputs": [
    {
     "data": {
      "text/plain": [
       "name               0\n",
       "year               0\n",
       "selling_price      0\n",
       "km_driven          0\n",
       "fuel               0\n",
       "seller_type        0\n",
       "transmission       0\n",
       "owner              0\n",
       "mileage          221\n",
       "engine           221\n",
       "max_power        215\n",
       "torque           222\n",
       "seats            221\n",
       "dtype: int64"
      ]
     },
     "execution_count": 5,
     "metadata": {},
     "output_type": "execute_result"
    }
   ],
   "source": [
    "df.isnull().sum()"
   ]
  },
  {
   "cell_type": "code",
   "execution_count": 6,
   "metadata": {},
   "outputs": [
    {
     "data": {
      "text/plain": [
       "(8128, 13)"
      ]
     },
     "execution_count": 6,
     "metadata": {},
     "output_type": "execute_result"
    }
   ],
   "source": [
    "df.shape"
   ]
  },
  {
   "cell_type": "code",
   "execution_count": 7,
   "metadata": {},
   "outputs": [],
   "source": [
    "df['mileage'] = df.mileage.str.replace(' kmpl','')\n",
    "df['engine'] = df.engine.str.replace(' CC','')\n",
    "df['max_power'] = df.max_power.str.replace(' bhp','')"
   ]
  },
  {
   "cell_type": "code",
   "execution_count": 8,
   "metadata": {},
   "outputs": [
    {
     "data": {
      "text/html": [
       "<div>\n",
       "<style scoped>\n",
       "    .dataframe tbody tr th:only-of-type {\n",
       "        vertical-align: middle;\n",
       "    }\n",
       "\n",
       "    .dataframe tbody tr th {\n",
       "        vertical-align: top;\n",
       "    }\n",
       "\n",
       "    .dataframe thead th {\n",
       "        text-align: right;\n",
       "    }\n",
       "</style>\n",
       "<table border=\"1\" class=\"dataframe\">\n",
       "  <thead>\n",
       "    <tr style=\"text-align: right;\">\n",
       "      <th></th>\n",
       "      <th>name</th>\n",
       "      <th>year</th>\n",
       "      <th>selling_price</th>\n",
       "      <th>km_driven</th>\n",
       "      <th>fuel</th>\n",
       "      <th>seller_type</th>\n",
       "      <th>transmission</th>\n",
       "      <th>owner</th>\n",
       "      <th>mileage</th>\n",
       "      <th>engine</th>\n",
       "      <th>max_power</th>\n",
       "      <th>torque</th>\n",
       "      <th>seats</th>\n",
       "    </tr>\n",
       "  </thead>\n",
       "  <tbody>\n",
       "    <tr>\n",
       "      <td>0</td>\n",
       "      <td>Maruti Swift Dzire VDI</td>\n",
       "      <td>2014</td>\n",
       "      <td>450000</td>\n",
       "      <td>145500</td>\n",
       "      <td>Diesel</td>\n",
       "      <td>Individual</td>\n",
       "      <td>Manual</td>\n",
       "      <td>First Owner</td>\n",
       "      <td>23.4</td>\n",
       "      <td>1248</td>\n",
       "      <td>74</td>\n",
       "      <td>190Nm@ 2000rpm</td>\n",
       "      <td>5.0</td>\n",
       "    </tr>\n",
       "    <tr>\n",
       "      <td>1</td>\n",
       "      <td>Skoda Rapid 1.5 TDI Ambition</td>\n",
       "      <td>2014</td>\n",
       "      <td>370000</td>\n",
       "      <td>120000</td>\n",
       "      <td>Diesel</td>\n",
       "      <td>Individual</td>\n",
       "      <td>Manual</td>\n",
       "      <td>Second Owner</td>\n",
       "      <td>21.14</td>\n",
       "      <td>1498</td>\n",
       "      <td>103.52</td>\n",
       "      <td>250Nm@ 1500-2500rpm</td>\n",
       "      <td>5.0</td>\n",
       "    </tr>\n",
       "    <tr>\n",
       "      <td>2</td>\n",
       "      <td>Honda City 2017-2020 EXi</td>\n",
       "      <td>2006</td>\n",
       "      <td>158000</td>\n",
       "      <td>140000</td>\n",
       "      <td>Petrol</td>\n",
       "      <td>Individual</td>\n",
       "      <td>Manual</td>\n",
       "      <td>Third Owner</td>\n",
       "      <td>17.7</td>\n",
       "      <td>1497</td>\n",
       "      <td>78</td>\n",
       "      <td>12.7@ 2,700(kgm@ rpm)</td>\n",
       "      <td>5.0</td>\n",
       "    </tr>\n",
       "    <tr>\n",
       "      <td>3</td>\n",
       "      <td>Hyundai i20 Sportz Diesel</td>\n",
       "      <td>2010</td>\n",
       "      <td>225000</td>\n",
       "      <td>127000</td>\n",
       "      <td>Diesel</td>\n",
       "      <td>Individual</td>\n",
       "      <td>Manual</td>\n",
       "      <td>First Owner</td>\n",
       "      <td>23.0</td>\n",
       "      <td>1396</td>\n",
       "      <td>90</td>\n",
       "      <td>22.4 kgm at 1750-2750rpm</td>\n",
       "      <td>5.0</td>\n",
       "    </tr>\n",
       "    <tr>\n",
       "      <td>4</td>\n",
       "      <td>Maruti Swift VXI BSIII</td>\n",
       "      <td>2007</td>\n",
       "      <td>130000</td>\n",
       "      <td>120000</td>\n",
       "      <td>Petrol</td>\n",
       "      <td>Individual</td>\n",
       "      <td>Manual</td>\n",
       "      <td>First Owner</td>\n",
       "      <td>16.1</td>\n",
       "      <td>1298</td>\n",
       "      <td>88.2</td>\n",
       "      <td>11.5@ 4,500(kgm@ rpm)</td>\n",
       "      <td>5.0</td>\n",
       "    </tr>\n",
       "  </tbody>\n",
       "</table>\n",
       "</div>"
      ],
      "text/plain": [
       "                           name  year  selling_price  km_driven    fuel  \\\n",
       "0        Maruti Swift Dzire VDI  2014         450000     145500  Diesel   \n",
       "1  Skoda Rapid 1.5 TDI Ambition  2014         370000     120000  Diesel   \n",
       "2      Honda City 2017-2020 EXi  2006         158000     140000  Petrol   \n",
       "3     Hyundai i20 Sportz Diesel  2010         225000     127000  Diesel   \n",
       "4        Maruti Swift VXI BSIII  2007         130000     120000  Petrol   \n",
       "\n",
       "  seller_type transmission         owner mileage engine max_power  \\\n",
       "0  Individual       Manual   First Owner    23.4   1248        74   \n",
       "1  Individual       Manual  Second Owner   21.14   1498    103.52   \n",
       "2  Individual       Manual   Third Owner    17.7   1497        78   \n",
       "3  Individual       Manual   First Owner    23.0   1396        90   \n",
       "4  Individual       Manual   First Owner    16.1   1298      88.2   \n",
       "\n",
       "                     torque  seats  \n",
       "0            190Nm@ 2000rpm    5.0  \n",
       "1       250Nm@ 1500-2500rpm    5.0  \n",
       "2     12.7@ 2,700(kgm@ rpm)    5.0  \n",
       "3  22.4 kgm at 1750-2750rpm    5.0  \n",
       "4     11.5@ 4,500(kgm@ rpm)    5.0  "
      ]
     },
     "execution_count": 8,
     "metadata": {},
     "output_type": "execute_result"
    }
   ],
   "source": [
    "df.head()"
   ]
  },
  {
   "cell_type": "code",
   "execution_count": 9,
   "metadata": {},
   "outputs": [],
   "source": [
    " df['max_power']=pd.to_numeric(df['max_power'],errors='coerce')"
   ]
  },
  {
   "cell_type": "code",
   "execution_count": 10,
   "metadata": {},
   "outputs": [],
   "source": [
    "df['engine'] = pd.to_numeric(df['engine'],errors='coerce')\n",
    "# .astype('int')"
   ]
  },
  {
   "cell_type": "code",
   "execution_count": 11,
   "metadata": {},
   "outputs": [],
   "source": [
    "df['mileage'] = df.mileage.str.replace(' km/kg','')"
   ]
  },
  {
   "cell_type": "code",
   "execution_count": 12,
   "metadata": {},
   "outputs": [],
   "source": [
    "df['mileage'] = pd.to_numeric(df['mileage'],errors='coerce')"
   ]
  },
  {
   "cell_type": "code",
   "execution_count": 13,
   "metadata": {},
   "outputs": [],
   "source": [
    "df_copy = df.copy()"
   ]
  },
  {
   "cell_type": "code",
   "execution_count": 14,
   "metadata": {},
   "outputs": [],
   "source": [
    "def impute_nan(df_f,variable):\n",
    "    median = df_f[variable].median()\n",
    "    df_f[variable+'_median'] = df_f[variable].fillna(median)\n",
    "    random_sample=df_f[variable].dropna().sample(df_f[variable].isnull().sum(),random_state=0)\n",
    "    random_sample.index=df_f[df_f[variable].isnull()].index\n",
    "    df_f.loc[df_f[variable].isnull(),variable+'_random']=random_sample\n",
    "    df_f.loc[~df_f[variable].isnull(),variable+'_random']=df_f[variable].dropna()"
   ]
  },
  {
   "cell_type": "code",
   "execution_count": 15,
   "metadata": {},
   "outputs": [],
   "source": [
    "impute_nan(df_copy,'mileage')"
   ]
  },
  {
   "cell_type": "code",
   "execution_count": 16,
   "metadata": {},
   "outputs": [],
   "source": [
    "impute_nan(df_copy,'engine')"
   ]
  },
  {
   "cell_type": "code",
   "execution_count": 17,
   "metadata": {},
   "outputs": [],
   "source": [
    "impute_nan(df_copy,'max_power')"
   ]
  },
  {
   "cell_type": "code",
   "execution_count": 18,
   "metadata": {},
   "outputs": [],
   "source": [
    "impute_nan(df_copy,'seats')"
   ]
  },
  {
   "cell_type": "code",
   "execution_count": 19,
   "metadata": {},
   "outputs": [
    {
     "data": {
      "text/html": [
       "<div>\n",
       "<style scoped>\n",
       "    .dataframe tbody tr th:only-of-type {\n",
       "        vertical-align: middle;\n",
       "    }\n",
       "\n",
       "    .dataframe tbody tr th {\n",
       "        vertical-align: top;\n",
       "    }\n",
       "\n",
       "    .dataframe thead th {\n",
       "        text-align: right;\n",
       "    }\n",
       "</style>\n",
       "<table border=\"1\" class=\"dataframe\">\n",
       "  <thead>\n",
       "    <tr style=\"text-align: right;\">\n",
       "      <th></th>\n",
       "      <th>name</th>\n",
       "      <th>year</th>\n",
       "      <th>selling_price</th>\n",
       "      <th>km_driven</th>\n",
       "      <th>fuel</th>\n",
       "      <th>seller_type</th>\n",
       "      <th>transmission</th>\n",
       "      <th>owner</th>\n",
       "      <th>mileage</th>\n",
       "      <th>engine</th>\n",
       "      <th>...</th>\n",
       "      <th>torque</th>\n",
       "      <th>seats</th>\n",
       "      <th>mileage_median</th>\n",
       "      <th>mileage_random</th>\n",
       "      <th>engine_median</th>\n",
       "      <th>engine_random</th>\n",
       "      <th>max_power_median</th>\n",
       "      <th>max_power_random</th>\n",
       "      <th>seats_median</th>\n",
       "      <th>seats_random</th>\n",
       "    </tr>\n",
       "  </thead>\n",
       "  <tbody>\n",
       "    <tr>\n",
       "      <td>0</td>\n",
       "      <td>Maruti Swift Dzire VDI</td>\n",
       "      <td>2014</td>\n",
       "      <td>450000</td>\n",
       "      <td>145500</td>\n",
       "      <td>Diesel</td>\n",
       "      <td>Individual</td>\n",
       "      <td>Manual</td>\n",
       "      <td>First Owner</td>\n",
       "      <td>23.40</td>\n",
       "      <td>1248.0</td>\n",
       "      <td>...</td>\n",
       "      <td>190Nm@ 2000rpm</td>\n",
       "      <td>5.0</td>\n",
       "      <td>23.40</td>\n",
       "      <td>23.40</td>\n",
       "      <td>1248.0</td>\n",
       "      <td>1248.0</td>\n",
       "      <td>74.00</td>\n",
       "      <td>74.00</td>\n",
       "      <td>5.0</td>\n",
       "      <td>5.0</td>\n",
       "    </tr>\n",
       "    <tr>\n",
       "      <td>1</td>\n",
       "      <td>Skoda Rapid 1.5 TDI Ambition</td>\n",
       "      <td>2014</td>\n",
       "      <td>370000</td>\n",
       "      <td>120000</td>\n",
       "      <td>Diesel</td>\n",
       "      <td>Individual</td>\n",
       "      <td>Manual</td>\n",
       "      <td>Second Owner</td>\n",
       "      <td>21.14</td>\n",
       "      <td>1498.0</td>\n",
       "      <td>...</td>\n",
       "      <td>250Nm@ 1500-2500rpm</td>\n",
       "      <td>5.0</td>\n",
       "      <td>21.14</td>\n",
       "      <td>21.14</td>\n",
       "      <td>1498.0</td>\n",
       "      <td>1498.0</td>\n",
       "      <td>103.52</td>\n",
       "      <td>103.52</td>\n",
       "      <td>5.0</td>\n",
       "      <td>5.0</td>\n",
       "    </tr>\n",
       "    <tr>\n",
       "      <td>2</td>\n",
       "      <td>Honda City 2017-2020 EXi</td>\n",
       "      <td>2006</td>\n",
       "      <td>158000</td>\n",
       "      <td>140000</td>\n",
       "      <td>Petrol</td>\n",
       "      <td>Individual</td>\n",
       "      <td>Manual</td>\n",
       "      <td>Third Owner</td>\n",
       "      <td>17.70</td>\n",
       "      <td>1497.0</td>\n",
       "      <td>...</td>\n",
       "      <td>12.7@ 2,700(kgm@ rpm)</td>\n",
       "      <td>5.0</td>\n",
       "      <td>17.70</td>\n",
       "      <td>17.70</td>\n",
       "      <td>1497.0</td>\n",
       "      <td>1497.0</td>\n",
       "      <td>78.00</td>\n",
       "      <td>78.00</td>\n",
       "      <td>5.0</td>\n",
       "      <td>5.0</td>\n",
       "    </tr>\n",
       "    <tr>\n",
       "      <td>3</td>\n",
       "      <td>Hyundai i20 Sportz Diesel</td>\n",
       "      <td>2010</td>\n",
       "      <td>225000</td>\n",
       "      <td>127000</td>\n",
       "      <td>Diesel</td>\n",
       "      <td>Individual</td>\n",
       "      <td>Manual</td>\n",
       "      <td>First Owner</td>\n",
       "      <td>23.00</td>\n",
       "      <td>1396.0</td>\n",
       "      <td>...</td>\n",
       "      <td>22.4 kgm at 1750-2750rpm</td>\n",
       "      <td>5.0</td>\n",
       "      <td>23.00</td>\n",
       "      <td>23.00</td>\n",
       "      <td>1396.0</td>\n",
       "      <td>1396.0</td>\n",
       "      <td>90.00</td>\n",
       "      <td>90.00</td>\n",
       "      <td>5.0</td>\n",
       "      <td>5.0</td>\n",
       "    </tr>\n",
       "    <tr>\n",
       "      <td>4</td>\n",
       "      <td>Maruti Swift VXI BSIII</td>\n",
       "      <td>2007</td>\n",
       "      <td>130000</td>\n",
       "      <td>120000</td>\n",
       "      <td>Petrol</td>\n",
       "      <td>Individual</td>\n",
       "      <td>Manual</td>\n",
       "      <td>First Owner</td>\n",
       "      <td>16.10</td>\n",
       "      <td>1298.0</td>\n",
       "      <td>...</td>\n",
       "      <td>11.5@ 4,500(kgm@ rpm)</td>\n",
       "      <td>5.0</td>\n",
       "      <td>16.10</td>\n",
       "      <td>16.10</td>\n",
       "      <td>1298.0</td>\n",
       "      <td>1298.0</td>\n",
       "      <td>88.20</td>\n",
       "      <td>88.20</td>\n",
       "      <td>5.0</td>\n",
       "      <td>5.0</td>\n",
       "    </tr>\n",
       "  </tbody>\n",
       "</table>\n",
       "<p>5 rows × 21 columns</p>\n",
       "</div>"
      ],
      "text/plain": [
       "                           name  year  selling_price  km_driven    fuel  \\\n",
       "0        Maruti Swift Dzire VDI  2014         450000     145500  Diesel   \n",
       "1  Skoda Rapid 1.5 TDI Ambition  2014         370000     120000  Diesel   \n",
       "2      Honda City 2017-2020 EXi  2006         158000     140000  Petrol   \n",
       "3     Hyundai i20 Sportz Diesel  2010         225000     127000  Diesel   \n",
       "4        Maruti Swift VXI BSIII  2007         130000     120000  Petrol   \n",
       "\n",
       "  seller_type transmission         owner  mileage  engine  ...  \\\n",
       "0  Individual       Manual   First Owner    23.40  1248.0  ...   \n",
       "1  Individual       Manual  Second Owner    21.14  1498.0  ...   \n",
       "2  Individual       Manual   Third Owner    17.70  1497.0  ...   \n",
       "3  Individual       Manual   First Owner    23.00  1396.0  ...   \n",
       "4  Individual       Manual   First Owner    16.10  1298.0  ...   \n",
       "\n",
       "                     torque seats  mileage_median  mileage_random  \\\n",
       "0            190Nm@ 2000rpm   5.0           23.40           23.40   \n",
       "1       250Nm@ 1500-2500rpm   5.0           21.14           21.14   \n",
       "2     12.7@ 2,700(kgm@ rpm)   5.0           17.70           17.70   \n",
       "3  22.4 kgm at 1750-2750rpm   5.0           23.00           23.00   \n",
       "4     11.5@ 4,500(kgm@ rpm)   5.0           16.10           16.10   \n",
       "\n",
       "   engine_median  engine_random  max_power_median  max_power_random  \\\n",
       "0         1248.0         1248.0             74.00             74.00   \n",
       "1         1498.0         1498.0            103.52            103.52   \n",
       "2         1497.0         1497.0             78.00             78.00   \n",
       "3         1396.0         1396.0             90.00             90.00   \n",
       "4         1298.0         1298.0             88.20             88.20   \n",
       "\n",
       "   seats_median  seats_random  \n",
       "0           5.0           5.0  \n",
       "1           5.0           5.0  \n",
       "2           5.0           5.0  \n",
       "3           5.0           5.0  \n",
       "4           5.0           5.0  \n",
       "\n",
       "[5 rows x 21 columns]"
      ]
     },
     "execution_count": 19,
     "metadata": {},
     "output_type": "execute_result"
    }
   ],
   "source": [
    "df_copy.head()"
   ]
  },
  {
   "cell_type": "code",
   "execution_count": 20,
   "metadata": {},
   "outputs": [],
   "source": [
    "import matplotlib.pyplot as plt\n",
    "%matplotlib inline"
   ]
  },
  {
   "cell_type": "code",
   "execution_count": 21,
   "metadata": {},
   "outputs": [
    {
     "data": {
      "text/plain": [
       "<matplotlib.legend.Legend at 0x177abdf9a08>"
      ]
     },
     "execution_count": 21,
     "metadata": {},
     "output_type": "execute_result"
    },
    {
     "data": {
      "image/png": "[encoded data removed]",
      "text/plain": [
       "<Figure size 432x288 with 1 Axes>"
      ]
     },
     "metadata": {
      "needs_background": "light"
     },
     "output_type": "display_data"
    }
   ],
   "source": [
    "fig = plt.figure()\n",
    "ax = fig.add_subplot(111)\n",
    "df_copy['mileage_median'].plot(kind='kde', ax=ax)\n",
    "df_copy.mileage_random.plot(kind='kde', ax=ax, color='red')\n",
    "lines, labels = ax.get_legend_handles_labels()\n",
    "ax.legend(lines, labels, loc='best')"
   ]
  },
  {
   "cell_type": "code",
   "execution_count": 22,
   "metadata": {},
   "outputs": [
    {
     "data": {
      "text/plain": [
       "Index(['name', 'year', 'selling_price', 'km_driven', 'fuel', 'seller_type',\n",
       "       'transmission', 'owner', 'mileage', 'engine', 'max_power', 'torque',\n",
       "       'seats', 'mileage_median', 'mileage_random', 'engine_median',\n",
       "       'engine_random', 'max_power_median', 'max_power_random', 'seats_median',\n",
       "       'seats_random'],\n",
       "      dtype='object')"
      ]
     },
     "execution_count": 22,
     "metadata": {},
     "output_type": "execute_result"
    }
   ],
   "source": [
    "#as we have the less number of the na value so we can try mean/median/mode imputation or random sample imputation\n",
    "#from observation we have found that random sample imputation works well as compare to mean/median/mode imputation\n",
    "#because std of the median imputation vary acc. to the original data set.\n",
    "df_copy.columns"
   ]
  },
  {
   "cell_type": "code",
   "execution_count": 23,
   "metadata": {},
   "outputs": [],
   "source": [
    "df_copy['current_year'] = 2020"
   ]
  },
  {
   "cell_type": "code",
   "execution_count": 24,
   "metadata": {},
   "outputs": [],
   "source": [
    "df_copy['num_year'] = df_copy['current_year'] - df_copy['year']"
   ]
  },
  {
   "cell_type": "code",
   "execution_count": 25,
   "metadata": {},
   "outputs": [],
   "source": [
    "df_copy.drop(df_copy.loc[df_copy['owner']== 'Test Drive Car'].index,axis=0,inplace=True)"
   ]
  },
  {
   "cell_type": "code",
   "execution_count": 26,
   "metadata": {},
   "outputs": [],
   "source": [
    "df_copy.replace({'owner':{'First Owner': '1','Second Owner': '2','Third Owner': '3','Fourth & Above Owner': '4'}},inplace=True)\n",
    "df_copy.replace({'transmission':{'Manual': '0','Automatic': '1'}},inplace=True)"
   ]
  },
  {
   "cell_type": "code",
   "execution_count": 27,
   "metadata": {},
   "outputs": [],
   "source": [
    "df_final = df_copy[['selling_price','num_year' ,'km_driven', 'fuel', 'seller_type',\n",
    "       'transmission','owner','mileage_random','engine_random','max_power_random','seats_random']]"
   ]
  },
  {
   "cell_type": "code",
   "execution_count": 28,
   "metadata": {},
   "outputs": [
    {
     "data": {
      "text/html": [
       "<div>\n",
       "<style scoped>\n",
       "    .dataframe tbody tr th:only-of-type {\n",
       "        vertical-align: middle;\n",
       "    }\n",
       "\n",
       "    .dataframe tbody tr th {\n",
       "        vertical-align: top;\n",
       "    }\n",
       "\n",
       "    .dataframe thead th {\n",
       "        text-align: right;\n",
       "    }\n",
       "</style>\n",
       "<table border=\"1\" class=\"dataframe\">\n",
       "  <thead>\n",
       "    <tr style=\"text-align: right;\">\n",
       "      <th></th>\n",
       "      <th>selling_price</th>\n",
       "      <th>num_year</th>\n",
       "      <th>km_driven</th>\n",
       "      <th>fuel</th>\n",
       "      <th>seller_type</th>\n",
       "      <th>transmission</th>\n",
       "      <th>owner</th>\n",
       "      <th>mileage_random</th>\n",
       "      <th>engine_random</th>\n",
       "      <th>max_power_random</th>\n",
       "      <th>seats_random</th>\n",
       "    </tr>\n",
       "  </thead>\n",
       "  <tbody>\n",
       "    <tr>\n",
       "      <td>0</td>\n",
       "      <td>450000</td>\n",
       "      <td>6</td>\n",
       "      <td>145500</td>\n",
       "      <td>Diesel</td>\n",
       "      <td>Individual</td>\n",
       "      <td>0</td>\n",
       "      <td>1</td>\n",
       "      <td>23.40</td>\n",
       "      <td>1248.0</td>\n",
       "      <td>74.00</td>\n",
       "      <td>5.0</td>\n",
       "    </tr>\n",
       "    <tr>\n",
       "      <td>1</td>\n",
       "      <td>370000</td>\n",
       "      <td>6</td>\n",
       "      <td>120000</td>\n",
       "      <td>Diesel</td>\n",
       "      <td>Individual</td>\n",
       "      <td>0</td>\n",
       "      <td>2</td>\n",
       "      <td>21.14</td>\n",
       "      <td>1498.0</td>\n",
       "      <td>103.52</td>\n",
       "      <td>5.0</td>\n",
       "    </tr>\n",
       "    <tr>\n",
       "      <td>2</td>\n",
       "      <td>158000</td>\n",
       "      <td>14</td>\n",
       "      <td>140000</td>\n",
       "      <td>Petrol</td>\n",
       "      <td>Individual</td>\n",
       "      <td>0</td>\n",
       "      <td>3</td>\n",
       "      <td>17.70</td>\n",
       "      <td>1497.0</td>\n",
       "      <td>78.00</td>\n",
       "      <td>5.0</td>\n",
       "    </tr>\n",
       "    <tr>\n",
       "      <td>3</td>\n",
       "      <td>225000</td>\n",
       "      <td>10</td>\n",
       "      <td>127000</td>\n",
       "      <td>Diesel</td>\n",
       "      <td>Individual</td>\n",
       "      <td>0</td>\n",
       "      <td>1</td>\n",
       "      <td>23.00</td>\n",
       "      <td>1396.0</td>\n",
       "      <td>90.00</td>\n",
       "      <td>5.0</td>\n",
       "    </tr>\n",
       "    <tr>\n",
       "      <td>4</td>\n",
       "      <td>130000</td>\n",
       "      <td>13</td>\n",
       "      <td>120000</td>\n",
       "      <td>Petrol</td>\n",
       "      <td>Individual</td>\n",
       "      <td>0</td>\n",
       "      <td>1</td>\n",
       "      <td>16.10</td>\n",
       "      <td>1298.0</td>\n",
       "      <td>88.20</td>\n",
       "      <td>5.0</td>\n",
       "    </tr>\n",
       "  </tbody>\n",
       "</table>\n",
       "</div>"
      ],
      "text/plain": [
       "   selling_price  num_year  km_driven    fuel seller_type transmission owner  \\\n",
       "0         450000         6     145500  Diesel  Individual            0     1   \n",
       "1         370000         6     120000  Diesel  Individual            0     2   \n",
       "2         158000        14     140000  Petrol  Individual            0     3   \n",
       "3         225000        10     127000  Diesel  Individual            0     1   \n",
       "4         130000        13     120000  Petrol  Individual            0     1   \n",
       "\n",
       "   mileage_random  engine_random  max_power_random  seats_random  \n",
       "0           23.40         1248.0             74.00           5.0  \n",
       "1           21.14         1498.0            103.52           5.0  \n",
       "2           17.70         1497.0             78.00           5.0  \n",
       "3           23.00         1396.0             90.00           5.0  \n",
       "4           16.10         1298.0             88.20           5.0  "
      ]
     },
     "execution_count": 28,
     "metadata": {},
     "output_type": "execute_result"
    }
   ],
   "source": [
    "df_final.head()"
   ]
  },
  {
   "cell_type": "code",
   "execution_count": 29,
   "metadata": {},
   "outputs": [
    {
     "name": "stderr",
     "output_type": "stream",
     "text": [
      "C:\\Users\\Mohd Arqam\\Anaconda3\\lib\\site-packages\\ipykernel_launcher.py:1: SettingWithCopyWarning: \n",
      "A value is trying to be set on a copy of a slice from a DataFrame.\n",
      "Try using .loc[row_indexer,col_indexer] = value instead\n",
      "\n",
      "See the caveats in the documentation: http://pandas.pydata.org/pandas-docs/stable/user_guide/indexing.html#returning-a-view-versus-a-copy\n",
      "  \"\"\"Entry point for launching an IPython kernel.\n",
      "C:\\Users\\Mohd Arqam\\Anaconda3\\lib\\site-packages\\ipykernel_launcher.py:2: SettingWithCopyWarning: \n",
      "A value is trying to be set on a copy of a slice from a DataFrame.\n",
      "Try using .loc[row_indexer,col_indexer] = value instead\n",
      "\n",
      "See the caveats in the documentation: http://pandas.pydata.org/pandas-docs/stable/user_guide/indexing.html#returning-a-view-versus-a-copy\n",
      "  \n",
      "C:\\Users\\Mohd Arqam\\Anaconda3\\lib\\site-packages\\ipykernel_launcher.py:3: SettingWithCopyWarning: \n",
      "A value is trying to be set on a copy of a slice from a DataFrame.\n",
      "Try using .loc[row_indexer,col_indexer] = value instead\n",
      "\n",
      "See the caveats in the documentation: http://pandas.pydata.org/pandas-docs/stable/user_guide/indexing.html#returning-a-view-versus-a-copy\n",
      "  This is separate from the ipykernel package so we can avoid doing imports until\n",
      "C:\\Users\\Mohd Arqam\\Anaconda3\\lib\\site-packages\\ipykernel_launcher.py:4: SettingWithCopyWarning: \n",
      "A value is trying to be set on a copy of a slice from a DataFrame.\n",
      "Try using .loc[row_indexer,col_indexer] = value instead\n",
      "\n",
      "See the caveats in the documentation: http://pandas.pydata.org/pandas-docs/stable/user_guide/indexing.html#returning-a-view-versus-a-copy\n",
      "  after removing the cwd from sys.path.\n",
      "C:\\Users\\Mohd Arqam\\Anaconda3\\lib\\site-packages\\ipykernel_launcher.py:5: SettingWithCopyWarning: \n",
      "A value is trying to be set on a copy of a slice from a DataFrame.\n",
      "Try using .loc[row_indexer,col_indexer] = value instead\n",
      "\n",
      "See the caveats in the documentation: http://pandas.pydata.org/pandas-docs/stable/user_guide/indexing.html#returning-a-view-versus-a-copy\n",
      "  \"\"\"\n"
     ]
    }
   ],
   "source": [
    "df_final['owner']=df_final.owner.astype('int')\n",
    "df_final['engine_random']=df_final.engine_random.astype('int')\n",
    "df_final['seats_random']=df_final.seats_random.astype('int')\n",
    "df_final['transmission']=df_final.transmission.astype('int')\n",
    "df_final['num_year']=df_final.num_year.astype('int')"
   ]
  },
  {
   "cell_type": "code",
   "execution_count": 30,
   "metadata": {},
   "outputs": [
    {
     "data": {
      "text/plain": [
       "<matplotlib.axes._subplots.AxesSubplot at 0x177add36cc8>"
      ]
     },
     "execution_count": 30,
     "metadata": {},
     "output_type": "execute_result"
    },
    {
     "data": {
      "image/png": "[encoded data removed]",
      "text/plain": [
       "<Figure size 792x504 with 2 Axes>"
      ]
     },
     "metadata": {
      "needs_background": "light"
     },
     "output_type": "display_data"
    }
   ],
   "source": [
    "import seaborn as sns\n",
    "plt.figure(figsize=(11,7))\n",
    "sns.heatmap(df_final.corr(),annot=True)"
   ]
  },
  {
   "cell_type": "code",
   "execution_count": 31,
   "metadata": {},
   "outputs": [],
   "source": [
    "df_final_n = pd.get_dummies(df_final,drop_first=True)"
   ]
  },
  {
   "cell_type": "code",
   "execution_count": 32,
   "metadata": {},
   "outputs": [
    {
     "data": {
      "text/html": [
       "<div>\n",
       "<style scoped>\n",
       "    .dataframe tbody tr th:only-of-type {\n",
       "        vertical-align: middle;\n",
       "    }\n",
       "\n",
       "    .dataframe tbody tr th {\n",
       "        vertical-align: top;\n",
       "    }\n",
       "\n",
       "    .dataframe thead th {\n",
       "        text-align: right;\n",
       "    }\n",
       "</style>\n",
       "<table border=\"1\" class=\"dataframe\">\n",
       "  <thead>\n",
       "    <tr style=\"text-align: right;\">\n",
       "      <th></th>\n",
       "      <th>selling_price</th>\n",
       "      <th>num_year</th>\n",
       "      <th>km_driven</th>\n",
       "      <th>transmission</th>\n",
       "      <th>owner</th>\n",
       "      <th>mileage_random</th>\n",
       "      <th>engine_random</th>\n",
       "      <th>max_power_random</th>\n",
       "      <th>seats_random</th>\n",
       "      <th>fuel_Diesel</th>\n",
       "      <th>fuel_LPG</th>\n",
       "      <th>fuel_Petrol</th>\n",
       "      <th>seller_type_Individual</th>\n",
       "      <th>seller_type_Trustmark Dealer</th>\n",
       "    </tr>\n",
       "  </thead>\n",
       "  <tbody>\n",
       "    <tr>\n",
       "      <td>0</td>\n",
       "      <td>450000</td>\n",
       "      <td>6</td>\n",
       "      <td>145500</td>\n",
       "      <td>0</td>\n",
       "      <td>1</td>\n",
       "      <td>23.40</td>\n",
       "      <td>1248</td>\n",
       "      <td>74.00</td>\n",
       "      <td>5</td>\n",
       "      <td>1</td>\n",
       "      <td>0</td>\n",
       "      <td>0</td>\n",
       "      <td>1</td>\n",
       "      <td>0</td>\n",
       "    </tr>\n",
       "    <tr>\n",
       "      <td>1</td>\n",
       "      <td>370000</td>\n",
       "      <td>6</td>\n",
       "      <td>120000</td>\n",
       "      <td>0</td>\n",
       "      <td>2</td>\n",
       "      <td>21.14</td>\n",
       "      <td>1498</td>\n",
       "      <td>103.52</td>\n",
       "      <td>5</td>\n",
       "      <td>1</td>\n",
       "      <td>0</td>\n",
       "      <td>0</td>\n",
       "      <td>1</td>\n",
       "      <td>0</td>\n",
       "    </tr>\n",
       "    <tr>\n",
       "      <td>2</td>\n",
       "      <td>158000</td>\n",
       "      <td>14</td>\n",
       "      <td>140000</td>\n",
       "      <td>0</td>\n",
       "      <td>3</td>\n",
       "      <td>17.70</td>\n",
       "      <td>1497</td>\n",
       "      <td>78.00</td>\n",
       "      <td>5</td>\n",
       "      <td>0</td>\n",
       "      <td>0</td>\n",
       "      <td>1</td>\n",
       "      <td>1</td>\n",
       "      <td>0</td>\n",
       "    </tr>\n",
       "    <tr>\n",
       "      <td>3</td>\n",
       "      <td>225000</td>\n",
       "      <td>10</td>\n",
       "      <td>127000</td>\n",
       "      <td>0</td>\n",
       "      <td>1</td>\n",
       "      <td>23.00</td>\n",
       "      <td>1396</td>\n",
       "      <td>90.00</td>\n",
       "      <td>5</td>\n",
       "      <td>1</td>\n",
       "      <td>0</td>\n",
       "      <td>0</td>\n",
       "      <td>1</td>\n",
       "      <td>0</td>\n",
       "    </tr>\n",
       "    <tr>\n",
       "      <td>4</td>\n",
       "      <td>130000</td>\n",
       "      <td>13</td>\n",
       "      <td>120000</td>\n",
       "      <td>0</td>\n",
       "      <td>1</td>\n",
       "      <td>16.10</td>\n",
       "      <td>1298</td>\n",
       "      <td>88.20</td>\n",
       "      <td>5</td>\n",
       "      <td>0</td>\n",
       "      <td>0</td>\n",
       "      <td>1</td>\n",
       "      <td>1</td>\n",
       "      <td>0</td>\n",
       "    </tr>\n",
       "  </tbody>\n",
       "</table>\n",
       "</div>"
      ],
      "text/plain": [
       "   selling_price  num_year  km_driven  transmission  owner  mileage_random  \\\n",
       "0         450000         6     145500             0      1           23.40   \n",
       "1         370000         6     120000             0      2           21.14   \n",
       "2         158000        14     140000             0      3           17.70   \n",
       "3         225000        10     127000             0      1           23.00   \n",
       "4         130000        13     120000             0      1           16.10   \n",
       "\n",
       "   engine_random  max_power_random  seats_random  fuel_Diesel  fuel_LPG  \\\n",
       "0           1248             74.00             5            1         0   \n",
       "1           1498            103.52             5            1         0   \n",
       "2           1497             78.00             5            0         0   \n",
       "3           1396             90.00             5            1         0   \n",
       "4           1298             88.20             5            0         0   \n",
       "\n",
       "   fuel_Petrol  seller_type_Individual  seller_type_Trustmark Dealer  \n",
       "0            0                       1                             0  \n",
       "1            0                       1                             0  \n",
       "2            1                       1                             0  \n",
       "3            0                       1                             0  \n",
       "4            1                       1                             0  "
      ]
     },
     "execution_count": 32,
     "metadata": {},
     "output_type": "execute_result"
    }
   ],
   "source": [
    "df_final_n.head()"
   ]
  },
  {
   "cell_type": "code",
   "execution_count": 33,
   "metadata": {},
   "outputs": [
    {
     "data": {
      "text/plain": [
       "<matplotlib.axes._subplots.AxesSubplot at 0x177ae1e0688>"
      ]
     },
     "execution_count": 33,
     "metadata": {},
     "output_type": "execute_result"
    },
    {
     "data": {
      "image/png": "[encoded data removed]",
      "text/plain": [
       "<Figure size 792x504 with 2 Axes>"
      ]
     },
     "metadata": {
      "needs_background": "light"
     },
     "output_type": "display_data"
    }
   ],
   "source": [
    "plt.figure(figsize=(11,7))\n",
    "sns.heatmap(df_final_n.corr(),annot=True)"
   ]
  },
  {
   "cell_type": "code",
   "execution_count": 34,
   "metadata": {},
   "outputs": [],
   "source": [
    "X = df_final_n.iloc[:,1:]\n",
    "y = df_final_n.iloc[:,0]"
   ]
  },
  {
   "cell_type": "code",
   "execution_count": 35,
   "metadata": {},
   "outputs": [
    {
     "data": {
      "text/html": [
       "<div>\n",
       "<style scoped>\n",
       "    .dataframe tbody tr th:only-of-type {\n",
       "        vertical-align: middle;\n",
       "    }\n",
       "\n",
       "    .dataframe tbody tr th {\n",
       "        vertical-align: top;\n",
       "    }\n",
       "\n",
       "    .dataframe thead th {\n",
       "        text-align: right;\n",
       "    }\n",
       "</style>\n",
       "<table border=\"1\" class=\"dataframe\">\n",
       "  <thead>\n",
       "    <tr style=\"text-align: right;\">\n",
       "      <th></th>\n",
       "      <th>num_year</th>\n",
       "      <th>km_driven</th>\n",
       "      <th>transmission</th>\n",
       "      <th>owner</th>\n",
       "      <th>mileage_random</th>\n",
       "      <th>engine_random</th>\n",
       "      <th>max_power_random</th>\n",
       "      <th>seats_random</th>\n",
       "      <th>fuel_Diesel</th>\n",
       "      <th>fuel_LPG</th>\n",
       "      <th>fuel_Petrol</th>\n",
       "      <th>seller_type_Individual</th>\n",
       "      <th>seller_type_Trustmark Dealer</th>\n",
       "    </tr>\n",
       "  </thead>\n",
       "  <tbody>\n",
       "    <tr>\n",
       "      <td>0</td>\n",
       "      <td>6</td>\n",
       "      <td>145500</td>\n",
       "      <td>0</td>\n",
       "      <td>1</td>\n",
       "      <td>23.40</td>\n",
       "      <td>1248</td>\n",
       "      <td>74.00</td>\n",
       "      <td>5</td>\n",
       "      <td>1</td>\n",
       "      <td>0</td>\n",
       "      <td>0</td>\n",
       "      <td>1</td>\n",
       "      <td>0</td>\n",
       "    </tr>\n",
       "    <tr>\n",
       "      <td>1</td>\n",
       "      <td>6</td>\n",
       "      <td>120000</td>\n",
       "      <td>0</td>\n",
       "      <td>2</td>\n",
       "      <td>21.14</td>\n",
       "      <td>1498</td>\n",
       "      <td>103.52</td>\n",
       "      <td>5</td>\n",
       "      <td>1</td>\n",
       "      <td>0</td>\n",
       "      <td>0</td>\n",
       "      <td>1</td>\n",
       "      <td>0</td>\n",
       "    </tr>\n",
       "    <tr>\n",
       "      <td>2</td>\n",
       "      <td>14</td>\n",
       "      <td>140000</td>\n",
       "      <td>0</td>\n",
       "      <td>3</td>\n",
       "      <td>17.70</td>\n",
       "      <td>1497</td>\n",
       "      <td>78.00</td>\n",
       "      <td>5</td>\n",
       "      <td>0</td>\n",
       "      <td>0</td>\n",
       "      <td>1</td>\n",
       "      <td>1</td>\n",
       "      <td>0</td>\n",
       "    </tr>\n",
       "    <tr>\n",
       "      <td>3</td>\n",
       "      <td>10</td>\n",
       "      <td>127000</td>\n",
       "      <td>0</td>\n",
       "      <td>1</td>\n",
       "      <td>23.00</td>\n",
       "      <td>1396</td>\n",
       "      <td>90.00</td>\n",
       "      <td>5</td>\n",
       "      <td>1</td>\n",
       "      <td>0</td>\n",
       "      <td>0</td>\n",
       "      <td>1</td>\n",
       "      <td>0</td>\n",
       "    </tr>\n",
       "    <tr>\n",
       "      <td>4</td>\n",
       "      <td>13</td>\n",
       "      <td>120000</td>\n",
       "      <td>0</td>\n",
       "      <td>1</td>\n",
       "      <td>16.10</td>\n",
       "      <td>1298</td>\n",
       "      <td>88.20</td>\n",
       "      <td>5</td>\n",
       "      <td>0</td>\n",
       "      <td>0</td>\n",
       "      <td>1</td>\n",
       "      <td>1</td>\n",
       "      <td>0</td>\n",
       "    </tr>\n",
       "  </tbody>\n",
       "</table>\n",
       "</div>"
      ],
      "text/plain": [
       "   num_year  km_driven  transmission  owner  mileage_random  engine_random  \\\n",
       "0         6     145500             0      1           23.40           1248   \n",
       "1         6     120000             0      2           21.14           1498   \n",
       "2        14     140000             0      3           17.70           1497   \n",
       "3        10     127000             0      1           23.00           1396   \n",
       "4        13     120000             0      1           16.10           1298   \n",
       "\n",
       "   max_power_random  seats_random  fuel_Diesel  fuel_LPG  fuel_Petrol  \\\n",
       "0             74.00             5            1         0            0   \n",
       "1            103.52             5            1         0            0   \n",
       "2             78.00             5            0         0            1   \n",
       "3             90.00             5            1         0            0   \n",
       "4             88.20             5            0         0            1   \n",
       "\n",
       "   seller_type_Individual  seller_type_Trustmark Dealer  \n",
       "0                       1                             0  \n",
       "1                       1                             0  \n",
       "2                       1                             0  \n",
       "3                       1                             0  \n",
       "4                       1                             0  "
      ]
     },
     "execution_count": 35,
     "metadata": {},
     "output_type": "execute_result"
    }
   ],
   "source": [
    "X.head()"
   ]
  },
  {
   "cell_type": "code",
   "execution_count": 36,
   "metadata": {},
   "outputs": [],
   "source": [
    "from sklearn.ensemble import ExtraTreesRegressor\n",
    "model = ExtraTreesRegressor()"
   ]
  },
  {
   "cell_type": "code",
   "execution_count": 37,
   "metadata": {},
   "outputs": [
    {
     "data": {
      "text/plain": [
       "ExtraTreesRegressor()"
      ]
     },
     "execution_count": 37,
     "metadata": {},
     "output_type": "execute_result"
    }
   ],
   "source": [
    "model.fit(X,y)"
   ]
  },
  {
   "cell_type": "code",
   "execution_count": 38,
   "metadata": {},
   "outputs": [
    {
     "data": {
      "text/plain": [
       "array([1.55839569e-01, 4.39518224e-02, 3.03109513e-01, 1.30714871e-02,\n",
       "       2.55901529e-02, 7.73742091e-02, 2.83574561e-01, 1.18077331e-02,\n",
       "       3.05034538e-02, 6.82146871e-06, 2.66469388e-02, 2.73850943e-02,\n",
       "       1.13864469e-03])"
      ]
     },
     "execution_count": 38,
     "metadata": {},
     "output_type": "execute_result"
    }
   ],
   "source": [
    "model.feature_importances_"
   ]
  },
  {
   "cell_type": "code",
   "execution_count": 39,
   "metadata": {},
   "outputs": [
    {
     "data": {
      "image/png": "[encoded data removed]",
      "text/plain": [
       "<Figure size 432x288 with 1 Axes>"
      ]
     },
     "metadata": {
      "needs_background": "light"
     },
     "output_type": "display_data"
    }
   ],
   "source": [
    "feat_imp = pd.Series(model.feature_importances_,index=X.columns)\n",
    "feat_imp.nlargest(5).plot(kind='barh')\n",
    "plt.show()"
   ]
  },
  {
   "cell_type": "code",
   "execution_count": 40,
   "metadata": {},
   "outputs": [],
   "source": [
    "from sklearn.model_selection import train_test_split\n",
    "X_train, X_test, y_train, y_test = train_test_split(X, y, test_size=0.2,random_state=0)"
   ]
  },
  {
   "cell_type": "code",
   "execution_count": 51,
   "metadata": {},
   "outputs": [
    {
     "data": {
      "text/plain": [
       "RandomForestRegressor()"
      ]
     },
     "execution_count": 51,
     "metadata": {},
     "output_type": "execute_result"
    }
   ],
   "source": [
    "from sklearn.ensemble import RandomForestRegressor\n",
    "rf_random = RandomForestRegressor()\n",
    "rf_random.fit(X_train,y_train)"
   ]
  },
  {
   "cell_type": "code",
   "execution_count": 52,
   "metadata": {},
   "outputs": [],
   "source": [
    "y_pred = rf_random.predict(X_test)"
   ]
  },
  {
   "cell_type": "code",
   "execution_count": 53,
   "metadata": {},
   "outputs": [
    {
     "data": {
      "text/plain": [
       "0.9374205265880189"
      ]
     },
     "execution_count": 53,
     "metadata": {},
     "output_type": "execute_result"
    }
   ],
   "source": [
    "rf_random.score(X_test,y_test)"
   ]
  },
  {
   "cell_type": "code",
   "execution_count": 44,
   "metadata": {},
   "outputs": [
    {
     "data": {
      "text/plain": [
       "<matplotlib.axes._subplots.AxesSubplot at 0x177b4bf2988>"
      ]
     },
     "execution_count": 44,
     "metadata": {},
     "output_type": "execute_result"
    },
    {
     "data": {
      "image/png": "[encoded data removed]",
      "text/plain": [
       "<Figure size 432x288 with 1 Axes>"
      ]
     },
     "metadata": {
      "needs_background": "light"
     },
     "output_type": "display_data"
    }
   ],
   "source": [
    "sns.distplot(y_pred-y_test)"
   ]
  },
  {
   "cell_type": "code",
   "execution_count": 45,
   "metadata": {},
   "outputs": [],
   "source": [
    "#AUTOMATE hyperparameter tuning"
   ]
  },
  {
   "cell_type": "code",
   "execution_count": 47,
   "metadata": {},
   "outputs": [
    {
     "name": "stdout",
     "output_type": "stream",
     "text": [
      "{'n_estimators': [200, 400, 600, 800, 1000, 1200, 1400, 1600, 1800, 2000], 'max_features': ['auto', 'sqrt', 'log2'], 'max_depth': [10, 120, 230, 340, 450, 560, 670, 780, 890, 1000], 'min_samples_split': [2, 5, 10, 14], 'min_samples_leaf': [1, 2, 4, 6, 8], 'criterion': ['mse', 'mae']}\n"
     ]
    }
   ],
   "source": [
    "# import numpy as np\n",
    "# from sklearn.model_selection import RandomizedSearchCV\n",
    "# # Number of trees in random forest\n",
    "# n_estimators = [int(x) for x in np.linspace(start = 200, stop = 2000, num = 10)]\n",
    "# # Number of features to consider at every split\n",
    "# max_features = ['auto', 'sqrt','log2']\n",
    "# # Maximum number of levels in tree\n",
    "# max_depth = [int(x) for x in np.linspace(10, 1000,10)]\n",
    "# # Minimum number of samples required to split a node\n",
    "# min_samples_split = [2, 5, 10,14]\n",
    "# # Minimum number of samples required at each leaf node\n",
    "# min_samples_leaf = [1, 2, 4,6,8]\n",
    "# # Create the random grid\n",
    "# param = {'n_estimators': n_estimators,\n",
    "#                'max_features': max_features,\n",
    "#                'max_depth': max_depth,\n",
    "#                'min_samples_split': min_samples_split,\n",
    "#                'min_samples_leaf': min_samples_leaf,\n",
    "#               'criterion':['mse', 'mae']}\n",
    "# print(param)"
   ]
  },
  {
   "cell_type": "code",
   "execution_count": 48,
   "metadata": {},
   "outputs": [],
   "source": [
    "# from tpot import TPOTRegressor\n",
    "\n",
    "\n",
    "# tpot_classifier = TPOTRegressor(generations= 5, population_size= 24, offspring_size= 12,\n",
    "#                                  verbosity= 2, early_stop= 12,\n",
    "#                                  config_dict={'sklearn.ensemble.RandomForestRegressor': param}, \n",
    "#                                  cv = 4, scoring = 'accuracy')\n",
    "# tpot_classifier.fit(X_train,y_train)"
   ]
  },
  {
   "cell_type": "code",
   "execution_count": 49,
   "metadata": {},
   "outputs": [],
   "source": [
    "import optuna\n",
    "import sklearn.svm\n",
    "def objective(trial):\n",
    "\n",
    "    classifier = trial.suggest_categorical('classifier', ['RandomForest'])\n",
    "    \n",
    "    if classifier == 'RandomForest':\n",
    "        n_estimators = trial.suggest_int('n_estimators', 200, 2000,10)\n",
    "        max_depth = int(trial.suggest_float('max_depth', 10, 100, log=True))\n",
    "\n",
    "        clf = sklearn.ensemble.RandomForestRegressor(\n",
    "            n_estimators=n_estimators, max_depth=max_depth)\n",
    "\n",
    "    return sklearn.model_selection.cross_val_score(\n",
    "        clf,X_train,y_train, n_jobs=-1, cv=3).mean()"
   ]
  },
  {
   "cell_type": "code",
   "execution_count": 61,
   "metadata": {},
   "outputs": [
    {
     "name": "stderr",
     "output_type": "stream",
     "text": [
      "\u001b[32m[I 2020-12-02 22:53:19,532]\u001b[0m A new study created in memory with name: no-name-f13590d4-9cd6-4515-ba5a-8a0a0427bfef\u001b[0m\n",
      "\u001b[32m[I 2020-12-02 22:53:49,835]\u001b[0m Trial 0 finished with value: 0.9612687771587728 and parameters: {'classifier': 'RandomForest', 'n_estimators': 760, 'max_depth': 25.309640642197326}. Best is trial 0 with value: 0.9612687771587728.\u001b[0m\n",
      "\u001b[32m[I 2020-12-02 22:54:30,865]\u001b[0m Trial 1 finished with value: 0.9615223664332629 and parameters: {'classifier': 'RandomForest', 'n_estimators': 1170, 'max_depth': 21.359753612894714}. Best is trial 1 with value: 0.9615223664332629.\u001b[0m\n",
      "\u001b[32m[I 2020-12-02 22:54:59,172]\u001b[0m Trial 2 finished with value: 0.9612695564786469 and parameters: {'classifier': 'RandomForest', 'n_estimators': 940, 'max_depth': 17.459957169992762}. Best is trial 1 with value: 0.9615223664332629.\u001b[0m\n",
      "\u001b[32m[I 2020-12-02 22:55:46,816]\u001b[0m Trial 3 finished with value: 0.9612700902824223 and parameters: {'classifier': 'RandomForest', 'n_estimators': 1650, 'max_depth': 15.00114543082345}. Best is trial 1 with value: 0.9615223664332629.\u001b[0m\n",
      "\u001b[32m[I 2020-12-02 22:56:26,871]\u001b[0m Trial 4 finished with value: 0.9616534152247643 and parameters: {'classifier': 'RandomForest', 'n_estimators': 1260, 'max_depth': 19.279913248030304}. Best is trial 4 with value: 0.9616534152247643.\u001b[0m\n",
      "\u001b[32m[I 2020-12-02 22:56:50,722]\u001b[0m Trial 5 finished with value: 0.9612468746041211 and parameters: {'classifier': 'RandomForest', 'n_estimators': 980, 'max_depth': 13.891195265204024}. Best is trial 4 with value: 0.9616534152247643.\u001b[0m\n",
      "\u001b[32m[I 2020-12-02 22:57:06,860]\u001b[0m Trial 6 finished with value: 0.9610697579672904 and parameters: {'classifier': 'RandomForest', 'n_estimators': 490, 'max_depth': 21.375739347820744}. Best is trial 4 with value: 0.9616534152247643.\u001b[0m\n",
      "\u001b[32m[I 2020-12-02 22:57:51,158]\u001b[0m Trial 7 finished with value: 0.9617704144119418 and parameters: {'classifier': 'RandomForest', 'n_estimators': 1280, 'max_depth': 62.487530173153374}. Best is trial 7 with value: 0.9617704144119418.\u001b[0m\n",
      "\u001b[32m[I 2020-12-02 22:58:54,557]\u001b[0m Trial 8 finished with value: 0.9612967066353928 and parameters: {'classifier': 'RandomForest', 'n_estimators': 1750, 'max_depth': 78.71890491089125}. Best is trial 7 with value: 0.9617704144119418.\u001b[0m\n",
      "\u001b[32m[I 2020-12-02 22:59:39,408]\u001b[0m Trial 9 finished with value: 0.960961783916508 and parameters: {'classifier': 'RandomForest', 'n_estimators': 1940, 'max_depth': 12.220225461038039}. Best is trial 7 with value: 0.9617704144119418.\u001b[0m\n",
      "\u001b[32m[I 2020-12-02 22:59:46,783]\u001b[0m Trial 10 finished with value: 0.9612104947345442 and parameters: {'classifier': 'RandomForest', 'n_estimators': 210, 'max_depth': 54.95488070339717}. Best is trial 7 with value: 0.9617704144119418.\u001b[0m\n",
      "\u001b[32m[I 2020-12-02 23:00:31,534]\u001b[0m Trial 11 finished with value: 0.961439879212202 and parameters: {'classifier': 'RandomForest', 'n_estimators': 1390, 'max_depth': 41.11246975175618}. Best is trial 7 with value: 0.9617704144119418.\u001b[0m\n",
      "\u001b[32m[I 2020-12-02 23:01:16,409]\u001b[0m Trial 12 finished with value: 0.9613109716919443 and parameters: {'classifier': 'RandomForest', 'n_estimators': 1380, 'max_depth': 95.82685850416294}. Best is trial 7 with value: 0.9617704144119418.\u001b[0m\n",
      "\u001b[32m[I 2020-12-02 23:02:01,921]\u001b[0m Trial 13 finished with value: 0.9615176945117306 and parameters: {'classifier': 'RandomForest', 'n_estimators': 1410, 'max_depth': 37.720660392526824}. Best is trial 7 with value: 0.9617704144119418.\u001b[0m\n",
      "\u001b[32m[I 2020-12-02 23:02:38,970]\u001b[0m Trial 14 finished with value: 0.961325574451831 and parameters: {'classifier': 'RandomForest', 'n_estimators': 1150, 'max_depth': 59.82892910128759}. Best is trial 7 with value: 0.9617704144119418.\u001b[0m\n",
      "\u001b[32m[I 2020-12-02 23:03:32,125]\u001b[0m Trial 15 finished with value: 0.9611867465652177 and parameters: {'classifier': 'RandomForest', 'n_estimators': 1640, 'max_depth': 29.906658058402503}. Best is trial 7 with value: 0.9617704144119418.\u001b[0m\n",
      "\u001b[32m[I 2020-12-02 23:03:45,717]\u001b[0m Trial 16 finished with value: 0.9602563841882853 and parameters: {'classifier': 'RandomForest', 'n_estimators': 680, 'max_depth': 10.27207287875753}. Best is trial 7 with value: 0.9617704144119418.\u001b[0m\n",
      "\u001b[32m[I 2020-12-02 23:04:27,391]\u001b[0m Trial 17 finished with value: 0.9614752120798112 and parameters: {'classifier': 'RandomForest', 'n_estimators': 1300, 'max_depth': 54.174102169796015}. Best is trial 7 with value: 0.9617704144119418.\u001b[0m\n",
      "\u001b[32m[I 2020-12-02 23:05:31,790]\u001b[0m Trial 18 finished with value: 0.9614743832105911 and parameters: {'classifier': 'RandomForest', 'n_estimators': 1960, 'max_depth': 90.12181842480112}. Best is trial 7 with value: 0.9617704144119418.\u001b[0m\n",
      "\u001b[32m[I 2020-12-02 23:06:21,358]\u001b[0m Trial 19 finished with value: 0.9614863053167069 and parameters: {'classifier': 'RandomForest', 'n_estimators': 1530, 'max_depth': 38.51157134016928}. Best is trial 7 with value: 0.9617704144119418.\u001b[0m\n",
      "\u001b[32m[I 2020-12-02 23:06:52,943]\u001b[0m Trial 20 finished with value: 0.9613934800765191 and parameters: {'classifier': 'RandomForest', 'n_estimators': 970, 'max_depth': 67.04017006272952}. Best is trial 7 with value: 0.9617704144119418.\u001b[0m\n",
      "\u001b[32m[I 2020-12-02 23:07:30,162]\u001b[0m Trial 21 finished with value: 0.9615394865873347 and parameters: {'classifier': 'RandomForest', 'n_estimators': 1160, 'max_depth': 19.61302391487614}. Best is trial 7 with value: 0.9617704144119418.\u001b[0m\n",
      "\u001b[32m[I 2020-12-02 23:08:07,980]\u001b[0m Trial 22 finished with value: 0.9616514976504756 and parameters: {'classifier': 'RandomForest', 'n_estimators': 1230, 'max_depth': 18.13605137319437}. Best is trial 7 with value: 0.9617704144119418.\u001b[0m\n",
      "\u001b[32m[I 2020-12-02 23:08:33,345]\u001b[0m Trial 23 finished with value: 0.9593911972926396 and parameters: {'classifier': 'RandomForest', 'n_estimators': 1300, 'max_depth': 10.380106061053551}. Best is trial 7 with value: 0.9617704144119418.\u001b[0m\n",
      "\u001b[32m[I 2020-12-02 23:08:59,184]\u001b[0m Trial 24 finished with value: 0.9615287442243566 and parameters: {'classifier': 'RandomForest', 'n_estimators': 800, 'max_depth': 30.43067410106535}. Best is trial 7 with value: 0.9617704144119418.\u001b[0m\n",
      "\u001b[32m[I 2020-12-02 23:09:43,834]\u001b[0m Trial 25 finished with value: 0.961592312327662 and parameters: {'classifier': 'RandomForest', 'n_estimators': 1520, 'max_depth': 16.937178792076317}. Best is trial 7 with value: 0.9617704144119418.\u001b[0m\n",
      "\u001b[32m[I 2020-12-02 23:10:18,892]\u001b[0m Trial 26 finished with value: 0.9614458820188085 and parameters: {'classifier': 'RandomForest', 'n_estimators': 1090, 'max_depth': 24.67466997357647}. Best is trial 7 with value: 0.9617704144119418.\u001b[0m\n",
      "\u001b[32m[I 2020-12-02 23:11:00,171]\u001b[0m Trial 27 finished with value: 0.9611870634743792 and parameters: {'classifier': 'RandomForest', 'n_estimators': 1740, 'max_depth': 12.690334163555946}. Best is trial 7 with value: 0.9617704144119418.\u001b[0m\n",
      "\u001b[32m[I 2020-12-02 23:11:41,577]\u001b[0m Trial 28 finished with value: 0.9613202746285676 and parameters: {'classifier': 'RandomForest', 'n_estimators': 1280, 'max_depth': 45.10905071250406}. Best is trial 7 with value: 0.9617704144119418.\u001b[0m\n",
      "\u001b[32m[I 2020-12-02 23:12:03,692]\u001b[0m Trial 29 finished with value: 0.9615905904581193 and parameters: {'classifier': 'RandomForest', 'n_estimators': 670, 'max_depth': 26.137359249766266}. Best is trial 7 with value: 0.9617704144119418.\u001b[0m\n",
      "\u001b[32m[I 2020-12-02 23:12:53,545]\u001b[0m Trial 30 finished with value: 0.9616216794474027 and parameters: {'classifier': 'RandomForest', 'n_estimators': 1500, 'max_depth': 24.873114803734534}. Best is trial 7 with value: 0.9617704144119418.\u001b[0m\n",
      "\u001b[32m[I 2020-12-02 23:13:42,041]\u001b[0m Trial 31 finished with value: 0.9613770283593759 and parameters: {'classifier': 'RandomForest', 'n_estimators': 1490, 'max_depth': 25.118913965158082}. Best is trial 7 with value: 0.9617704144119418.\u001b[0m\n",
      "\u001b[32m[I 2020-12-02 23:14:21,846]\u001b[0m Trial 32 finished with value: 0.9615316878666195 and parameters: {'classifier': 'RandomForest', 'n_estimators': 1230, 'max_depth': 20.242086951544945}. Best is trial 7 with value: 0.9617704144119418.\u001b[0m\n",
      "\u001b[32m[I 2020-12-02 23:14:56,744]\u001b[0m Trial 33 finished with value: 0.9615774867995587 and parameters: {'classifier': 'RandomForest', 'n_estimators': 1130, 'max_depth': 16.876192199200375}. Best is trial 7 with value: 0.9617704144119418.\u001b[0m\n"
     ]
    },
    {
     "name": "stderr",
     "output_type": "stream",
     "text": [
      "\u001b[32m[I 2020-12-02 23:15:29,938]\u001b[0m Trial 34 finished with value: 0.9613192371801508 and parameters: {'classifier': 'RandomForest', 'n_estimators': 1020, 'max_depth': 23.11554236086132}. Best is trial 7 with value: 0.9617704144119418.\u001b[0m\n",
      "\u001b[32m[I 2020-12-02 23:15:56,369]\u001b[0m Trial 35 finished with value: 0.9616475498629189 and parameters: {'classifier': 'RandomForest', 'n_estimators': 850, 'max_depth': 17.589396932359477}. Best is trial 7 with value: 0.9617704144119418.\u001b[0m\n",
      "\u001b[32m[I 2020-12-02 23:16:20,679]\u001b[0m Trial 36 finished with value: 0.9614595157612573 and parameters: {'classifier': 'RandomForest', 'n_estimators': 880, 'max_depth': 15.074133480443546}. Best is trial 7 with value: 0.9617704144119418.\u001b[0m\n",
      "\u001b[32m[I 2020-12-02 23:16:37,993]\u001b[0m Trial 37 finished with value: 0.9612544992790805 and parameters: {'classifier': 'RandomForest', 'n_estimators': 570, 'max_depth': 17.40295583007934}. Best is trial 7 with value: 0.9617704144119418.\u001b[0m\n",
      "\u001b[32m[I 2020-12-02 23:17:02,194]\u001b[0m Trial 38 finished with value: 0.9611895548405126 and parameters: {'classifier': 'RandomForest', 'n_estimators': 870, 'max_depth': 14.491904457363006}. Best is trial 7 with value: 0.9617704144119418.\u001b[0m\n",
      "\u001b[32m[I 2020-12-02 23:17:27,188]\u001b[0m Trial 39 finished with value: 0.9607897517794469 and parameters: {'classifier': 'RandomForest', 'n_estimators': 1060, 'max_depth': 12.17605394646746}. Best is trial 7 with value: 0.9617704144119418.\u001b[0m\n",
      "\u001b[32m[I 2020-12-02 23:18:08,449]\u001b[0m Trial 40 finished with value: 0.96149527726464 and parameters: {'classifier': 'RandomForest', 'n_estimators': 1220, 'max_depth': 19.151084590906123}. Best is trial 7 with value: 0.9617704144119418.\u001b[0m\n",
      "\u001b[32m[I 2020-12-02 23:19:07,245]\u001b[0m Trial 41 finished with value: 0.9614730420679264 and parameters: {'classifier': 'RandomForest', 'n_estimators': 1630, 'max_depth': 21.57435668287776}. Best is trial 7 with value: 0.9617704144119418.\u001b[0m\n",
      "\u001b[32m[I 2020-12-02 23:19:53,249]\u001b[0m Trial 42 finished with value: 0.9615003552544846 and parameters: {'classifier': 'RandomForest', 'n_estimators': 1430, 'max_depth': 28.135856503651638}. Best is trial 7 with value: 0.9617704144119418.\u001b[0m\n",
      "\u001b[32m[I 2020-12-02 23:20:37,872]\u001b[0m Trial 43 finished with value: 0.9613475741001586 and parameters: {'classifier': 'RandomForest', 'n_estimators': 1350, 'max_depth': 34.88726827568066}. Best is trial 7 with value: 0.9617704144119418.\u001b[0m\n",
      "\u001b[32m[I 2020-12-02 23:21:04,544]\u001b[0m Trial 44 finished with value: 0.9613404054684106 and parameters: {'classifier': 'RandomForest', 'n_estimators': 910, 'max_depth': 15.919668624167576}. Best is trial 7 with value: 0.9617704144119418.\u001b[0m\n",
      "\u001b[32m[I 2020-12-02 23:21:59,376]\u001b[0m Trial 45 finished with value: 0.9617148276211885 and parameters: {'classifier': 'RandomForest', 'n_estimators': 1790, 'max_depth': 18.885486818800832}. Best is trial 7 with value: 0.9617704144119418.\u001b[0m\n",
      "\u001b[32m[I 2020-12-02 23:22:13,392]\u001b[0m Trial 46 finished with value: 0.9612093557791169 and parameters: {'classifier': 'RandomForest', 'n_estimators': 450, 'max_depth': 18.51782808048858}. Best is trial 7 with value: 0.9617704144119418.\u001b[0m\n",
      "\u001b[32m[I 2020-12-02 23:22:58,989]\u001b[0m Trial 47 finished with value: 0.9610458654843539 and parameters: {'classifier': 'RandomForest', 'n_estimators': 1850, 'max_depth': 13.096807655855828}. Best is trial 7 with value: 0.9617704144119418.\u001b[0m\n",
      "\u001b[32m[I 2020-12-02 23:23:24,532]\u001b[0m Trial 48 finished with value: 0.9610815293382139 and parameters: {'classifier': 'RandomForest', 'n_estimators': 760, 'max_depth': 22.247959564316297}. Best is trial 7 with value: 0.9617704144119418.\u001b[0m\n",
      "\u001b[32m[I 2020-12-02 23:23:46,668]\u001b[0m Trial 49 finished with value: 0.9605580016774516 and parameters: {'classifier': 'RandomForest', 'n_estimators': 1020, 'max_depth': 11.276116253426549}. Best is trial 7 with value: 0.9617704144119418.\u001b[0m\n"
     ]
    },
    {
     "name": "stdout",
     "output_type": "stream",
     "text": [
      "Accuracy: 0.9617704144119418\n",
      "Best hyperparameters: {'classifier': 'RandomForest', 'n_estimators': 1280, 'max_depth': 62.487530173153374}\n"
     ]
    }
   ],
   "source": [
    "study = optuna.create_study(direction='maximize')\n",
    "study.optimize(objective, n_trials=50)\n",
    "\n",
    "trial = study.best_trial\n",
    "\n",
    "print('Accuracy: {}'.format(trial.value))\n",
    "print(\"Best hyperparameters: {}\".format(trial.params))"
   ]
  },
  {
   "cell_type": "code",
   "execution_count": 46,
   "metadata": {},
   "outputs": [
    {
     "data": {
      "text/plain": [
       "RandomForestRegressor(max_depth=62.487530173153374, n_estimators=1280)"
      ]
     },
     "execution_count": 46,
     "metadata": {},
     "output_type": "execute_result"
    }
   ],
   "source": [
    "rf=RandomForestRegressor(n_estimators=1280,max_depth=62.487530173153374)\n",
    "rf.fit(X_train,y_train)"
   ]
  },
  {
   "cell_type": "code",
   "execution_count": 47,
   "metadata": {},
   "outputs": [],
   "source": [
    "y_pred_rf = rf.predict(X_test)"
   ]
  },
  {
   "cell_type": "code",
   "execution_count": 48,
   "metadata": {},
   "outputs": [
    {
     "data": {
      "text/plain": [
       "0.9393854676064641"
      ]
     },
     "execution_count": 48,
     "metadata": {},
     "output_type": "execute_result"
    }
   ],
   "source": [
    "rf.score(X_test,y_test)"
   ]
  },
  {
   "cell_type": "code",
   "execution_count": 54,
   "metadata": {},
   "outputs": [
    {
     "data": {
      "text/plain": [
       "<matplotlib.axes._subplots.AxesSubplot at 0x177d97068c8>"
      ]
     },
     "execution_count": 54,
     "metadata": {},
     "output_type": "execute_result"
    },
    {
     "data": {
      "image/png": "[encoded data removed]",
      "text/plain": [
       "<Figure size 432x288 with 1 Axes>"
      ]
     },
     "metadata": {
      "needs_background": "light"
     },
     "output_type": "display_data"
    }
   ],
   "source": [
    "sns.scatterplot(y_test,y_pred_rf)"
   ]
  },
  {
   "cell_type": "code",
   "execution_count": 58,
   "metadata": {},
   "outputs": [],
   "source": [
    "# import pickle\n",
    "# # open a file, where you ant to store the data\n",
    "# file = open('random_forest_regression_model.pkl', 'wb')"
   ]
  },
  {
   "cell_type": "code",
   "execution_count": 59,
   "metadata": {},
   "outputs": [],
   "source": [
    "# pickle.dump(rf_random, file)"
   ]
  },
  {
   "cell_type": "code",
   "execution_count": 61,
   "metadata": {},
   "outputs": [],
   "source": [
    "# pickle.dump(rf, open('model.pkl','wb'))"
   ]
  },
  {
   "cell_type": "code",
   "execution_count": 55,
   "metadata": {},
   "outputs": [
    {
     "data": {
      "text/plain": [
       "array([471702.23463542])"
      ]
     },
     "execution_count": 55,
     "metadata": {},
     "output_type": "execute_result"
    }
   ],
   "source": [
    "rf.predict([[6,145500,0,1,23.40,1248,74.00,5,1,0,0,1,0]])"
   ]
  },
  {
   "cell_type": "code",
   "execution_count": 68,
   "metadata": {},
   "outputs": [
    {
     "data": {
      "text/plain": [
       "['model.pkl']"
      ]
     },
     "execution_count": 68,
     "metadata": {},
     "output_type": "execute_result"
    }
   ],
   "source": [
    "import joblib\n",
    "joblib.dump(rf_random,  'model.pkl',compress=2)"
   ]
  },
  {
   "cell_type": "code",
   "execution_count": null,
   "metadata": {},
   "outputs": [],
   "source": []
  }
 ],
 "metadata": {
  "kernelspec": {
   "display_name": "Python 3",
   "language": "python",
   "name": "python3"
  },
  "language_info": {
   "codemirror_mode": {
    "name": "ipython",
    "version": 3
   },
   "file_extension": ".py",
   "mimetype": "text/x-python",
   "name": "python",
   "nbconvert_exporter": "python",
   "pygments_lexer": "ipython3",
   "version": "3.7.4"
  }
 },
 "nbformat": 4,
 "nbformat_minor": 2
}
